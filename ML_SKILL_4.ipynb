{
 "cells": [
  {
   "cell_type": "code",
   "execution_count": null,
   "metadata": {},
   "outputs": [],
   "source": [
    "# Name:Naveen\n",
    "# Id:190031094\n",
    "# Skill_4"
   ]
  },
  {
   "cell_type": "code",
   "execution_count": 1,
   "metadata": {
    "executionInfo": {
     "elapsed": 535,
     "status": "ok",
     "timestamp": 1628145488868,
     "user": {
      "displayName": "YASWANTH KANAMARLAPUDI",
      "photoUrl": "https://lh3.googleusercontent.com/a-/AOh14GhNh7FBGd023zjnEhqtSIZrvFeDsjUXA-4JFq5yhw=s64",
      "userId": "10692934730370513981"
     },
     "user_tz": -330
    },
    "id": "uvXarmWfCD2P"
   },
   "outputs": [],
   "source": [
    "import numpy as np \n",
    "import pandas as pd \n",
    "import seaborn as sns\n",
    "import matplotlib.pyplot as plt\n",
    "%matplotlib inline\n",
    "from sklearn import metrics\n",
    "from sklearn.linear_model import LogisticRegression\n",
    "from sklearn.model_selection import train_test_split \n",
    "from sklearn.metrics import confusion_matrix \n",
    "from sklearn.tree import DecisionTreeClassifier \n",
    "from sklearn.metrics import accuracy_score \n",
    "from sklearn.metrics import classification_report\n"
   ]
  },
  {
   "cell_type": "code",
   "execution_count": 2,
   "metadata": {
    "executionInfo": {
     "elapsed": 414,
     "status": "ok",
     "timestamp": 1628145627717,
     "user": {
      "displayName": "YASWANTH KANAMARLAPUDI",
      "photoUrl": "https://lh3.googleusercontent.com/a-/AOh14GhNh7FBGd023zjnEhqtSIZrvFeDsjUXA-4JFq5yhw=s64",
      "userId": "10692934730370513981"
     },
     "user_tz": -330
    },
    "id": "q8u2Mjb2CD2V"
   },
   "outputs": [],
   "source": [
    "#transfusion.csv\n",
    "df = pd.read_csv('C:/Users/NAVEEN.MULAGA/Downloads/transfusion .csv')"
   ]
  },
  {
   "cell_type": "code",
   "execution_count": 6,
   "metadata": {
    "id": "906N0gxeCD2W",
    "outputId": "872610a2-769b-4676-9395-7ffe91376bb1"
   },
   "outputs": [
    {
     "data": {
      "text/html": [
       "<div>\n",
       "<style scoped>\n",
       "    .dataframe tbody tr th:only-of-type {\n",
       "        vertical-align: middle;\n",
       "    }\n",
       "\n",
       "    .dataframe tbody tr th {\n",
       "        vertical-align: top;\n",
       "    }\n",
       "\n",
       "    .dataframe thead th {\n",
       "        text-align: right;\n",
       "    }\n",
       "</style>\n",
       "<table border=\"1\" class=\"dataframe\">\n",
       "  <thead>\n",
       "    <tr style=\"text-align: right;\">\n",
       "      <th></th>\n",
       "      <th>Recency (months)</th>\n",
       "      <th>Frequency (times)</th>\n",
       "      <th>Monetary (c.c. blood)</th>\n",
       "      <th>Time (months)</th>\n",
       "      <th>whether he/she donated blood in March 2007</th>\n",
       "    </tr>\n",
       "  </thead>\n",
       "  <tbody>\n",
       "    <tr>\n",
       "      <th>0</th>\n",
       "      <td>2</td>\n",
       "      <td>50</td>\n",
       "      <td>12500</td>\n",
       "      <td>98</td>\n",
       "      <td>1</td>\n",
       "    </tr>\n",
       "    <tr>\n",
       "      <th>1</th>\n",
       "      <td>0</td>\n",
       "      <td>13</td>\n",
       "      <td>3250</td>\n",
       "      <td>28</td>\n",
       "      <td>1</td>\n",
       "    </tr>\n",
       "    <tr>\n",
       "      <th>2</th>\n",
       "      <td>1</td>\n",
       "      <td>16</td>\n",
       "      <td>4000</td>\n",
       "      <td>35</td>\n",
       "      <td>1</td>\n",
       "    </tr>\n",
       "    <tr>\n",
       "      <th>3</th>\n",
       "      <td>2</td>\n",
       "      <td>20</td>\n",
       "      <td>5000</td>\n",
       "      <td>45</td>\n",
       "      <td>1</td>\n",
       "    </tr>\n",
       "    <tr>\n",
       "      <th>4</th>\n",
       "      <td>1</td>\n",
       "      <td>24</td>\n",
       "      <td>6000</td>\n",
       "      <td>77</td>\n",
       "      <td>0</td>\n",
       "    </tr>\n",
       "    <tr>\n",
       "      <th>...</th>\n",
       "      <td>...</td>\n",
       "      <td>...</td>\n",
       "      <td>...</td>\n",
       "      <td>...</td>\n",
       "      <td>...</td>\n",
       "    </tr>\n",
       "    <tr>\n",
       "      <th>743</th>\n",
       "      <td>23</td>\n",
       "      <td>2</td>\n",
       "      <td>500</td>\n",
       "      <td>38</td>\n",
       "      <td>0</td>\n",
       "    </tr>\n",
       "    <tr>\n",
       "      <th>744</th>\n",
       "      <td>21</td>\n",
       "      <td>2</td>\n",
       "      <td>500</td>\n",
       "      <td>52</td>\n",
       "      <td>0</td>\n",
       "    </tr>\n",
       "    <tr>\n",
       "      <th>745</th>\n",
       "      <td>23</td>\n",
       "      <td>3</td>\n",
       "      <td>750</td>\n",
       "      <td>62</td>\n",
       "      <td>0</td>\n",
       "    </tr>\n",
       "    <tr>\n",
       "      <th>746</th>\n",
       "      <td>39</td>\n",
       "      <td>1</td>\n",
       "      <td>250</td>\n",
       "      <td>39</td>\n",
       "      <td>0</td>\n",
       "    </tr>\n",
       "    <tr>\n",
       "      <th>747</th>\n",
       "      <td>72</td>\n",
       "      <td>1</td>\n",
       "      <td>250</td>\n",
       "      <td>72</td>\n",
       "      <td>0</td>\n",
       "    </tr>\n",
       "  </tbody>\n",
       "</table>\n",
       "<p>748 rows × 5 columns</p>\n",
       "</div>"
      ],
      "text/plain": [
       "     Recency (months)  Frequency (times)  Monetary (c.c. blood)  \\\n",
       "0                   2                 50                  12500   \n",
       "1                   0                 13                   3250   \n",
       "2                   1                 16                   4000   \n",
       "3                   2                 20                   5000   \n",
       "4                   1                 24                   6000   \n",
       "..                ...                ...                    ...   \n",
       "743                23                  2                    500   \n",
       "744                21                  2                    500   \n",
       "745                23                  3                    750   \n",
       "746                39                  1                    250   \n",
       "747                72                  1                    250   \n",
       "\n",
       "     Time (months)  whether he/she donated blood in March 2007  \n",
       "0               98                                           1  \n",
       "1               28                                           1  \n",
       "2               35                                           1  \n",
       "3               45                                           1  \n",
       "4               77                                           0  \n",
       "..             ...                                         ...  \n",
       "743             38                                           0  \n",
       "744             52                                           0  \n",
       "745             62                                           0  \n",
       "746             39                                           0  \n",
       "747             72                                           0  \n",
       "\n",
       "[748 rows x 5 columns]"
      ]
     },
     "execution_count": 6,
     "metadata": {},
     "output_type": "execute_result"
    }
   ],
   "source": [
    "df"
   ]
  },
  {
   "cell_type": "code",
   "execution_count": 7,
   "metadata": {
    "colab": {
     "base_uri": "https://localhost:8080/",
     "height": 203
    },
    "executionInfo": {
     "elapsed": 452,
     "status": "ok",
     "timestamp": 1628145634519,
     "user": {
      "displayName": "YASWANTH KANAMARLAPUDI",
      "photoUrl": "https://lh3.googleusercontent.com/a-/AOh14GhNh7FBGd023zjnEhqtSIZrvFeDsjUXA-4JFq5yhw=s64",
      "userId": "10692934730370513981"
     },
     "user_tz": -330
    },
    "id": "Gu1LELZlCD2X",
    "outputId": "b7fadbd2-c654-4159-eae9-fbf48298b6c5"
   },
   "outputs": [
    {
     "data": {
      "text/html": [
       "<div>\n",
       "<style scoped>\n",
       "    .dataframe tbody tr th:only-of-type {\n",
       "        vertical-align: middle;\n",
       "    }\n",
       "\n",
       "    .dataframe tbody tr th {\n",
       "        vertical-align: top;\n",
       "    }\n",
       "\n",
       "    .dataframe thead th {\n",
       "        text-align: right;\n",
       "    }\n",
       "</style>\n",
       "<table border=\"1\" class=\"dataframe\">\n",
       "  <thead>\n",
       "    <tr style=\"text-align: right;\">\n",
       "      <th></th>\n",
       "      <th>Recency (months)</th>\n",
       "      <th>Frequency (times)</th>\n",
       "      <th>Monetary (c.c. blood)</th>\n",
       "      <th>Time (months)</th>\n",
       "      <th>whether he/she donated blood in March 2007</th>\n",
       "    </tr>\n",
       "  </thead>\n",
       "  <tbody>\n",
       "    <tr>\n",
       "      <th>0</th>\n",
       "      <td>2</td>\n",
       "      <td>50</td>\n",
       "      <td>12500</td>\n",
       "      <td>98</td>\n",
       "      <td>1</td>\n",
       "    </tr>\n",
       "    <tr>\n",
       "      <th>1</th>\n",
       "      <td>0</td>\n",
       "      <td>13</td>\n",
       "      <td>3250</td>\n",
       "      <td>28</td>\n",
       "      <td>1</td>\n",
       "    </tr>\n",
       "    <tr>\n",
       "      <th>2</th>\n",
       "      <td>1</td>\n",
       "      <td>16</td>\n",
       "      <td>4000</td>\n",
       "      <td>35</td>\n",
       "      <td>1</td>\n",
       "    </tr>\n",
       "    <tr>\n",
       "      <th>3</th>\n",
       "      <td>2</td>\n",
       "      <td>20</td>\n",
       "      <td>5000</td>\n",
       "      <td>45</td>\n",
       "      <td>1</td>\n",
       "    </tr>\n",
       "    <tr>\n",
       "      <th>4</th>\n",
       "      <td>1</td>\n",
       "      <td>24</td>\n",
       "      <td>6000</td>\n",
       "      <td>77</td>\n",
       "      <td>0</td>\n",
       "    </tr>\n",
       "  </tbody>\n",
       "</table>\n",
       "</div>"
      ],
      "text/plain": [
       "   Recency (months)  Frequency (times)  Monetary (c.c. blood)  Time (months)  \\\n",
       "0                 2                 50                  12500             98   \n",
       "1                 0                 13                   3250             28   \n",
       "2                 1                 16                   4000             35   \n",
       "3                 2                 20                   5000             45   \n",
       "4                 1                 24                   6000             77   \n",
       "\n",
       "   whether he/she donated blood in March 2007  \n",
       "0                                           1  \n",
       "1                                           1  \n",
       "2                                           1  \n",
       "3                                           1  \n",
       "4                                           0  "
      ]
     },
     "execution_count": 7,
     "metadata": {},
     "output_type": "execute_result"
    }
   ],
   "source": [
    "df.head()"
   ]
  },
  {
   "cell_type": "code",
   "execution_count": 8,
   "metadata": {
    "colab": {
     "base_uri": "https://localhost:8080/",
     "height": 203
    },
    "executionInfo": {
     "elapsed": 602,
     "status": "ok",
     "timestamp": 1628145641177,
     "user": {
      "displayName": "YASWANTH KANAMARLAPUDI",
      "photoUrl": "https://lh3.googleusercontent.com/a-/AOh14GhNh7FBGd023zjnEhqtSIZrvFeDsjUXA-4JFq5yhw=s64",
      "userId": "10692934730370513981"
     },
     "user_tz": -330
    },
    "id": "PZPF0lZDCD2X",
    "outputId": "53ab5605-a1b6-40da-90c6-690394daa563"
   },
   "outputs": [
    {
     "data": {
      "text/html": [
       "<div>\n",
       "<style scoped>\n",
       "    .dataframe tbody tr th:only-of-type {\n",
       "        vertical-align: middle;\n",
       "    }\n",
       "\n",
       "    .dataframe tbody tr th {\n",
       "        vertical-align: top;\n",
       "    }\n",
       "\n",
       "    .dataframe thead th {\n",
       "        text-align: right;\n",
       "    }\n",
       "</style>\n",
       "<table border=\"1\" class=\"dataframe\">\n",
       "  <thead>\n",
       "    <tr style=\"text-align: right;\">\n",
       "      <th></th>\n",
       "      <th>Recency (months)</th>\n",
       "      <th>Frequency (times)</th>\n",
       "      <th>Monetary (c.c. blood)</th>\n",
       "      <th>Time (months)</th>\n",
       "      <th>whether he/she donated blood in March 2007</th>\n",
       "    </tr>\n",
       "  </thead>\n",
       "  <tbody>\n",
       "    <tr>\n",
       "      <th>743</th>\n",
       "      <td>23</td>\n",
       "      <td>2</td>\n",
       "      <td>500</td>\n",
       "      <td>38</td>\n",
       "      <td>0</td>\n",
       "    </tr>\n",
       "    <tr>\n",
       "      <th>744</th>\n",
       "      <td>21</td>\n",
       "      <td>2</td>\n",
       "      <td>500</td>\n",
       "      <td>52</td>\n",
       "      <td>0</td>\n",
       "    </tr>\n",
       "    <tr>\n",
       "      <th>745</th>\n",
       "      <td>23</td>\n",
       "      <td>3</td>\n",
       "      <td>750</td>\n",
       "      <td>62</td>\n",
       "      <td>0</td>\n",
       "    </tr>\n",
       "    <tr>\n",
       "      <th>746</th>\n",
       "      <td>39</td>\n",
       "      <td>1</td>\n",
       "      <td>250</td>\n",
       "      <td>39</td>\n",
       "      <td>0</td>\n",
       "    </tr>\n",
       "    <tr>\n",
       "      <th>747</th>\n",
       "      <td>72</td>\n",
       "      <td>1</td>\n",
       "      <td>250</td>\n",
       "      <td>72</td>\n",
       "      <td>0</td>\n",
       "    </tr>\n",
       "  </tbody>\n",
       "</table>\n",
       "</div>"
      ],
      "text/plain": [
       "     Recency (months)  Frequency (times)  Monetary (c.c. blood)  \\\n",
       "743                23                  2                    500   \n",
       "744                21                  2                    500   \n",
       "745                23                  3                    750   \n",
       "746                39                  1                    250   \n",
       "747                72                  1                    250   \n",
       "\n",
       "     Time (months)  whether he/she donated blood in March 2007  \n",
       "743             38                                           0  \n",
       "744             52                                           0  \n",
       "745             62                                           0  \n",
       "746             39                                           0  \n",
       "747             72                                           0  "
      ]
     },
     "execution_count": 8,
     "metadata": {},
     "output_type": "execute_result"
    }
   ],
   "source": [
    "df.tail()"
   ]
  },
  {
   "cell_type": "code",
   "execution_count": 9,
   "metadata": {
    "colab": {
     "base_uri": "https://localhost:8080/",
     "height": 295
    },
    "executionInfo": {
     "elapsed": 400,
     "status": "ok",
     "timestamp": 1628145647994,
     "user": {
      "displayName": "YASWANTH KANAMARLAPUDI",
      "photoUrl": "https://lh3.googleusercontent.com/a-/AOh14GhNh7FBGd023zjnEhqtSIZrvFeDsjUXA-4JFq5yhw=s64",
      "userId": "10692934730370513981"
     },
     "user_tz": -330
    },
    "id": "UHPYgvNMCD2Y",
    "outputId": "db121f1d-2c9c-4d55-ca60-4f334f3eaafe"
   },
   "outputs": [
    {
     "data": {
      "text/html": [
       "<div>\n",
       "<style scoped>\n",
       "    .dataframe tbody tr th:only-of-type {\n",
       "        vertical-align: middle;\n",
       "    }\n",
       "\n",
       "    .dataframe tbody tr th {\n",
       "        vertical-align: top;\n",
       "    }\n",
       "\n",
       "    .dataframe thead th {\n",
       "        text-align: right;\n",
       "    }\n",
       "</style>\n",
       "<table border=\"1\" class=\"dataframe\">\n",
       "  <thead>\n",
       "    <tr style=\"text-align: right;\">\n",
       "      <th></th>\n",
       "      <th>Recency (months)</th>\n",
       "      <th>Frequency (times)</th>\n",
       "      <th>Monetary (c.c. blood)</th>\n",
       "      <th>Time (months)</th>\n",
       "      <th>whether he/she donated blood in March 2007</th>\n",
       "    </tr>\n",
       "  </thead>\n",
       "  <tbody>\n",
       "    <tr>\n",
       "      <th>count</th>\n",
       "      <td>748.000000</td>\n",
       "      <td>748.000000</td>\n",
       "      <td>748.000000</td>\n",
       "      <td>748.000000</td>\n",
       "      <td>748.000000</td>\n",
       "    </tr>\n",
       "    <tr>\n",
       "      <th>mean</th>\n",
       "      <td>9.506684</td>\n",
       "      <td>5.514706</td>\n",
       "      <td>1378.676471</td>\n",
       "      <td>34.282086</td>\n",
       "      <td>0.237968</td>\n",
       "    </tr>\n",
       "    <tr>\n",
       "      <th>std</th>\n",
       "      <td>8.095396</td>\n",
       "      <td>5.839307</td>\n",
       "      <td>1459.826781</td>\n",
       "      <td>24.376714</td>\n",
       "      <td>0.426124</td>\n",
       "    </tr>\n",
       "    <tr>\n",
       "      <th>min</th>\n",
       "      <td>0.000000</td>\n",
       "      <td>1.000000</td>\n",
       "      <td>250.000000</td>\n",
       "      <td>2.000000</td>\n",
       "      <td>0.000000</td>\n",
       "    </tr>\n",
       "    <tr>\n",
       "      <th>25%</th>\n",
       "      <td>2.750000</td>\n",
       "      <td>2.000000</td>\n",
       "      <td>500.000000</td>\n",
       "      <td>16.000000</td>\n",
       "      <td>0.000000</td>\n",
       "    </tr>\n",
       "    <tr>\n",
       "      <th>50%</th>\n",
       "      <td>7.000000</td>\n",
       "      <td>4.000000</td>\n",
       "      <td>1000.000000</td>\n",
       "      <td>28.000000</td>\n",
       "      <td>0.000000</td>\n",
       "    </tr>\n",
       "    <tr>\n",
       "      <th>75%</th>\n",
       "      <td>14.000000</td>\n",
       "      <td>7.000000</td>\n",
       "      <td>1750.000000</td>\n",
       "      <td>50.000000</td>\n",
       "      <td>0.000000</td>\n",
       "    </tr>\n",
       "    <tr>\n",
       "      <th>max</th>\n",
       "      <td>74.000000</td>\n",
       "      <td>50.000000</td>\n",
       "      <td>12500.000000</td>\n",
       "      <td>98.000000</td>\n",
       "      <td>1.000000</td>\n",
       "    </tr>\n",
       "  </tbody>\n",
       "</table>\n",
       "</div>"
      ],
      "text/plain": [
       "       Recency (months)  Frequency (times)  Monetary (c.c. blood)  \\\n",
       "count        748.000000         748.000000             748.000000   \n",
       "mean           9.506684           5.514706            1378.676471   \n",
       "std            8.095396           5.839307            1459.826781   \n",
       "min            0.000000           1.000000             250.000000   \n",
       "25%            2.750000           2.000000             500.000000   \n",
       "50%            7.000000           4.000000            1000.000000   \n",
       "75%           14.000000           7.000000            1750.000000   \n",
       "max           74.000000          50.000000           12500.000000   \n",
       "\n",
       "       Time (months)  whether he/she donated blood in March 2007  \n",
       "count     748.000000                                  748.000000  \n",
       "mean       34.282086                                    0.237968  \n",
       "std        24.376714                                    0.426124  \n",
       "min         2.000000                                    0.000000  \n",
       "25%        16.000000                                    0.000000  \n",
       "50%        28.000000                                    0.000000  \n",
       "75%        50.000000                                    0.000000  \n",
       "max        98.000000                                    1.000000  "
      ]
     },
     "execution_count": 9,
     "metadata": {},
     "output_type": "execute_result"
    }
   ],
   "source": [
    "df.describe()"
   ]
  },
  {
   "cell_type": "code",
   "execution_count": 10,
   "metadata": {
    "colab": {
     "base_uri": "https://localhost:8080/"
    },
    "executionInfo": {
     "elapsed": 414,
     "status": "ok",
     "timestamp": 1628145653931,
     "user": {
      "displayName": "YASWANTH KANAMARLAPUDI",
      "photoUrl": "https://lh3.googleusercontent.com/a-/AOh14GhNh7FBGd023zjnEhqtSIZrvFeDsjUXA-4JFq5yhw=s64",
      "userId": "10692934730370513981"
     },
     "user_tz": -330
    },
    "id": "B_Qd62VyCD2Z",
    "outputId": "48f9e2ef-bf7e-4fb1-ed88-df24d4b69075"
   },
   "outputs": [
    {
     "name": "stdout",
     "output_type": "stream",
     "text": [
      "<class 'pandas.core.frame.DataFrame'>\n",
      "RangeIndex: 748 entries, 0 to 747\n",
      "Data columns (total 5 columns):\n",
      " #   Column                                      Non-Null Count  Dtype\n",
      "---  ------                                      --------------  -----\n",
      " 0   Recency (months)                            748 non-null    int64\n",
      " 1   Frequency (times)                           748 non-null    int64\n",
      " 2   Monetary (c.c. blood)                       748 non-null    int64\n",
      " 3   Time (months)                               748 non-null    int64\n",
      " 4   whether he/she donated blood in March 2007  748 non-null    int64\n",
      "dtypes: int64(5)\n",
      "memory usage: 29.3 KB\n"
     ]
    }
   ],
   "source": [
    "df.info()"
   ]
  },
  {
   "cell_type": "code",
   "execution_count": 11,
   "metadata": {
    "colab": {
     "base_uri": "https://localhost:8080/",
     "height": 417
    },
    "executionInfo": {
     "elapsed": 430,
     "status": "ok",
     "timestamp": 1628145666250,
     "user": {
      "displayName": "YASWANTH KANAMARLAPUDI",
      "photoUrl": "https://lh3.googleusercontent.com/a-/AOh14GhNh7FBGd023zjnEhqtSIZrvFeDsjUXA-4JFq5yhw=s64",
      "userId": "10692934730370513981"
     },
     "user_tz": -330
    },
    "id": "VRYO8m9QCD2a",
    "outputId": "5526b9da-da31-495c-cb1d-d446ce52d526"
   },
   "outputs": [
    {
     "data": {
      "text/html": [
       "<div>\n",
       "<style scoped>\n",
       "    .dataframe tbody tr th:only-of-type {\n",
       "        vertical-align: middle;\n",
       "    }\n",
       "\n",
       "    .dataframe tbody tr th {\n",
       "        vertical-align: top;\n",
       "    }\n",
       "\n",
       "    .dataframe thead th {\n",
       "        text-align: right;\n",
       "    }\n",
       "</style>\n",
       "<table border=\"1\" class=\"dataframe\">\n",
       "  <thead>\n",
       "    <tr style=\"text-align: right;\">\n",
       "      <th></th>\n",
       "      <th>Recency (months)</th>\n",
       "      <th>Frequency (times)</th>\n",
       "      <th>Monetary (c.c. blood)</th>\n",
       "      <th>Time (months)</th>\n",
       "      <th>whether he/she donated blood in March 2007</th>\n",
       "    </tr>\n",
       "  </thead>\n",
       "  <tbody>\n",
       "    <tr>\n",
       "      <th>0</th>\n",
       "      <td>False</td>\n",
       "      <td>False</td>\n",
       "      <td>False</td>\n",
       "      <td>False</td>\n",
       "      <td>False</td>\n",
       "    </tr>\n",
       "    <tr>\n",
       "      <th>1</th>\n",
       "      <td>False</td>\n",
       "      <td>False</td>\n",
       "      <td>False</td>\n",
       "      <td>False</td>\n",
       "      <td>False</td>\n",
       "    </tr>\n",
       "    <tr>\n",
       "      <th>2</th>\n",
       "      <td>False</td>\n",
       "      <td>False</td>\n",
       "      <td>False</td>\n",
       "      <td>False</td>\n",
       "      <td>False</td>\n",
       "    </tr>\n",
       "    <tr>\n",
       "      <th>3</th>\n",
       "      <td>False</td>\n",
       "      <td>False</td>\n",
       "      <td>False</td>\n",
       "      <td>False</td>\n",
       "      <td>False</td>\n",
       "    </tr>\n",
       "    <tr>\n",
       "      <th>4</th>\n",
       "      <td>False</td>\n",
       "      <td>False</td>\n",
       "      <td>False</td>\n",
       "      <td>False</td>\n",
       "      <td>False</td>\n",
       "    </tr>\n",
       "    <tr>\n",
       "      <th>...</th>\n",
       "      <td>...</td>\n",
       "      <td>...</td>\n",
       "      <td>...</td>\n",
       "      <td>...</td>\n",
       "      <td>...</td>\n",
       "    </tr>\n",
       "    <tr>\n",
       "      <th>743</th>\n",
       "      <td>False</td>\n",
       "      <td>False</td>\n",
       "      <td>False</td>\n",
       "      <td>False</td>\n",
       "      <td>False</td>\n",
       "    </tr>\n",
       "    <tr>\n",
       "      <th>744</th>\n",
       "      <td>False</td>\n",
       "      <td>False</td>\n",
       "      <td>False</td>\n",
       "      <td>False</td>\n",
       "      <td>False</td>\n",
       "    </tr>\n",
       "    <tr>\n",
       "      <th>745</th>\n",
       "      <td>False</td>\n",
       "      <td>False</td>\n",
       "      <td>False</td>\n",
       "      <td>False</td>\n",
       "      <td>False</td>\n",
       "    </tr>\n",
       "    <tr>\n",
       "      <th>746</th>\n",
       "      <td>False</td>\n",
       "      <td>False</td>\n",
       "      <td>False</td>\n",
       "      <td>False</td>\n",
       "      <td>False</td>\n",
       "    </tr>\n",
       "    <tr>\n",
       "      <th>747</th>\n",
       "      <td>False</td>\n",
       "      <td>False</td>\n",
       "      <td>False</td>\n",
       "      <td>False</td>\n",
       "      <td>False</td>\n",
       "    </tr>\n",
       "  </tbody>\n",
       "</table>\n",
       "<p>748 rows × 5 columns</p>\n",
       "</div>"
      ],
      "text/plain": [
       "     Recency (months)  Frequency (times)  Monetary (c.c. blood)  \\\n",
       "0               False              False                  False   \n",
       "1               False              False                  False   \n",
       "2               False              False                  False   \n",
       "3               False              False                  False   \n",
       "4               False              False                  False   \n",
       "..                ...                ...                    ...   \n",
       "743             False              False                  False   \n",
       "744             False              False                  False   \n",
       "745             False              False                  False   \n",
       "746             False              False                  False   \n",
       "747             False              False                  False   \n",
       "\n",
       "     Time (months)  whether he/she donated blood in March 2007  \n",
       "0            False                                       False  \n",
       "1            False                                       False  \n",
       "2            False                                       False  \n",
       "3            False                                       False  \n",
       "4            False                                       False  \n",
       "..             ...                                         ...  \n",
       "743          False                                       False  \n",
       "744          False                                       False  \n",
       "745          False                                       False  \n",
       "746          False                                       False  \n",
       "747          False                                       False  \n",
       "\n",
       "[748 rows x 5 columns]"
      ]
     },
     "execution_count": 11,
     "metadata": {},
     "output_type": "execute_result"
    }
   ],
   "source": [
    "df.isnull()"
   ]
  },
  {
   "cell_type": "code",
   "execution_count": 12,
   "metadata": {
    "colab": {
     "base_uri": "https://localhost:8080/"
    },
    "executionInfo": {
     "elapsed": 10,
     "status": "ok",
     "timestamp": 1628145657115,
     "user": {
      "displayName": "YASWANTH KANAMARLAPUDI",
      "photoUrl": "https://lh3.googleusercontent.com/a-/AOh14GhNh7FBGd023zjnEhqtSIZrvFeDsjUXA-4JFq5yhw=s64",
      "userId": "10692934730370513981"
     },
     "user_tz": -330
    },
    "id": "V0tQnZAOCD2b",
    "outputId": "efcea583-07ee-40f3-83e3-e39cc0539431"
   },
   "outputs": [
    {
     "data": {
      "text/plain": [
       "Recency (months)                              0\n",
       "Frequency (times)                             0\n",
       "Monetary (c.c. blood)                         0\n",
       "Time (months)                                 0\n",
       "whether he/she donated blood in March 2007    0\n",
       "dtype: int64"
      ]
     },
     "execution_count": 12,
     "metadata": {},
     "output_type": "execute_result"
    }
   ],
   "source": [
    "df.isnull().sum()"
   ]
  },
  {
   "cell_type": "code",
   "execution_count": 13,
   "metadata": {
    "colab": {
     "base_uri": "https://localhost:8080/",
     "height": 237
    },
    "executionInfo": {
     "elapsed": 439,
     "status": "ok",
     "timestamp": 1628145673617,
     "user": {
      "displayName": "YASWANTH KANAMARLAPUDI",
      "photoUrl": "https://lh3.googleusercontent.com/a-/AOh14GhNh7FBGd023zjnEhqtSIZrvFeDsjUXA-4JFq5yhw=s64",
      "userId": "10692934730370513981"
     },
     "user_tz": -330
    },
    "id": "_xeMIJxmCD2b",
    "outputId": "6b0430b0-94fd-48c2-f29d-2ce489440eb4"
   },
   "outputs": [
    {
     "data": {
      "text/html": [
       "<div>\n",
       "<style scoped>\n",
       "    .dataframe tbody tr th:only-of-type {\n",
       "        vertical-align: middle;\n",
       "    }\n",
       "\n",
       "    .dataframe tbody tr th {\n",
       "        vertical-align: top;\n",
       "    }\n",
       "\n",
       "    .dataframe thead th {\n",
       "        text-align: right;\n",
       "    }\n",
       "</style>\n",
       "<table border=\"1\" class=\"dataframe\">\n",
       "  <thead>\n",
       "    <tr style=\"text-align: right;\">\n",
       "      <th></th>\n",
       "      <th>Recency (months)</th>\n",
       "      <th>Frequency (times)</th>\n",
       "      <th>Monetary (c.c. blood)</th>\n",
       "      <th>Time (months)</th>\n",
       "      <th>whether he/she donated blood in March 2007</th>\n",
       "    </tr>\n",
       "  </thead>\n",
       "  <tbody>\n",
       "    <tr>\n",
       "      <th>Recency (months)</th>\n",
       "      <td>1.000000</td>\n",
       "      <td>-0.182745</td>\n",
       "      <td>-0.182745</td>\n",
       "      <td>0.160618</td>\n",
       "      <td>-0.279869</td>\n",
       "    </tr>\n",
       "    <tr>\n",
       "      <th>Frequency (times)</th>\n",
       "      <td>-0.182745</td>\n",
       "      <td>1.000000</td>\n",
       "      <td>1.000000</td>\n",
       "      <td>0.634940</td>\n",
       "      <td>0.218633</td>\n",
       "    </tr>\n",
       "    <tr>\n",
       "      <th>Monetary (c.c. blood)</th>\n",
       "      <td>-0.182745</td>\n",
       "      <td>1.000000</td>\n",
       "      <td>1.000000</td>\n",
       "      <td>0.634940</td>\n",
       "      <td>0.218633</td>\n",
       "    </tr>\n",
       "    <tr>\n",
       "      <th>Time (months)</th>\n",
       "      <td>0.160618</td>\n",
       "      <td>0.634940</td>\n",
       "      <td>0.634940</td>\n",
       "      <td>1.000000</td>\n",
       "      <td>-0.035854</td>\n",
       "    </tr>\n",
       "    <tr>\n",
       "      <th>whether he/she donated blood in March 2007</th>\n",
       "      <td>-0.279869</td>\n",
       "      <td>0.218633</td>\n",
       "      <td>0.218633</td>\n",
       "      <td>-0.035854</td>\n",
       "      <td>1.000000</td>\n",
       "    </tr>\n",
       "  </tbody>\n",
       "</table>\n",
       "</div>"
      ],
      "text/plain": [
       "                                            Recency (months)  \\\n",
       "Recency (months)                                    1.000000   \n",
       "Frequency (times)                                  -0.182745   \n",
       "Monetary (c.c. blood)                              -0.182745   \n",
       "Time (months)                                       0.160618   \n",
       "whether he/she donated blood in March 2007         -0.279869   \n",
       "\n",
       "                                            Frequency (times)  \\\n",
       "Recency (months)                                    -0.182745   \n",
       "Frequency (times)                                    1.000000   \n",
       "Monetary (c.c. blood)                                1.000000   \n",
       "Time (months)                                        0.634940   \n",
       "whether he/she donated blood in March 2007           0.218633   \n",
       "\n",
       "                                            Monetary (c.c. blood)  \\\n",
       "Recency (months)                                        -0.182745   \n",
       "Frequency (times)                                        1.000000   \n",
       "Monetary (c.c. blood)                                    1.000000   \n",
       "Time (months)                                            0.634940   \n",
       "whether he/she donated blood in March 2007               0.218633   \n",
       "\n",
       "                                            Time (months)  \\\n",
       "Recency (months)                                 0.160618   \n",
       "Frequency (times)                                0.634940   \n",
       "Monetary (c.c. blood)                            0.634940   \n",
       "Time (months)                                    1.000000   \n",
       "whether he/she donated blood in March 2007      -0.035854   \n",
       "\n",
       "                                            whether he/she donated blood in March 2007  \n",
       "Recency (months)                                                             -0.279869  \n",
       "Frequency (times)                                                             0.218633  \n",
       "Monetary (c.c. blood)                                                         0.218633  \n",
       "Time (months)                                                                -0.035854  \n",
       "whether he/she donated blood in March 2007                                    1.000000  "
      ]
     },
     "execution_count": 13,
     "metadata": {},
     "output_type": "execute_result"
    }
   ],
   "source": [
    "df.corr()"
   ]
  },
  {
   "cell_type": "code",
   "execution_count": 14,
   "metadata": {
    "colab": {
     "base_uri": "https://localhost:8080/"
    },
    "executionInfo": {
     "elapsed": 564,
     "status": "ok",
     "timestamp": 1628145681023,
     "user": {
      "displayName": "YASWANTH KANAMARLAPUDI",
      "photoUrl": "https://lh3.googleusercontent.com/a-/AOh14GhNh7FBGd023zjnEhqtSIZrvFeDsjUXA-4JFq5yhw=s64",
      "userId": "10692934730370513981"
     },
     "user_tz": -330
    },
    "id": "WwJbtwy-CD2c",
    "outputId": "4c1c6a65-4010-4a44-a459-7d52e1bd092e"
   },
   "outputs": [
    {
     "data": {
      "text/plain": [
       "Index(['Recency (months)', 'Frequency (times)', 'Monetary (c.c. blood)',\n",
       "       'Time (months)', 'whether he/she donated blood in March 2007'],\n",
       "      dtype='object')"
      ]
     },
     "execution_count": 14,
     "metadata": {},
     "output_type": "execute_result"
    }
   ],
   "source": [
    "df.columns"
   ]
  },
  {
   "cell_type": "code",
   "execution_count": 15,
   "metadata": {
    "colab": {
     "base_uri": "https://localhost:8080/"
    },
    "executionInfo": {
     "elapsed": 8,
     "status": "ok",
     "timestamp": 1628145683323,
     "user": {
      "displayName": "YASWANTH KANAMARLAPUDI",
      "photoUrl": "https://lh3.googleusercontent.com/a-/AOh14GhNh7FBGd023zjnEhqtSIZrvFeDsjUXA-4JFq5yhw=s64",
      "userId": "10692934730370513981"
     },
     "user_tz": -330
    },
    "id": "XIzSnGM1CD2d",
    "outputId": "e3055463-a8b5-4e5c-d93c-405811f4ea91"
   },
   "outputs": [
    {
     "data": {
      "text/plain": [
       "Recency (months)                              int64\n",
       "Frequency (times)                             int64\n",
       "Monetary (c.c. blood)                         int64\n",
       "Time (months)                                 int64\n",
       "whether he/she donated blood in March 2007    int64\n",
       "dtype: object"
      ]
     },
     "execution_count": 15,
     "metadata": {},
     "output_type": "execute_result"
    }
   ],
   "source": [
    "df.dtypes"
   ]
  },
  {
   "cell_type": "code",
   "execution_count": 16,
   "metadata": {
    "colab": {
     "base_uri": "https://localhost:8080/",
     "height": 487
    },
    "executionInfo": {
     "elapsed": 635,
     "status": "ok",
     "timestamp": 1628145684467,
     "user": {
      "displayName": "YASWANTH KANAMARLAPUDI",
      "photoUrl": "https://lh3.googleusercontent.com/a-/AOh14GhNh7FBGd023zjnEhqtSIZrvFeDsjUXA-4JFq5yhw=s64",
      "userId": "10692934730370513981"
     },
     "user_tz": -330
    },
    "id": "wZSmfzszCD2e",
    "outputId": "6a20f77b-7acc-4d8e-9940-da2aedf32144"
   },
   "outputs": [
    {
     "data": {
      "image/png": "[encoded data removed]",
      "text/plain": [
       "<Figure size 432x288 with 2 Axes>"
      ]
     },
     "metadata": {
      "needs_background": "light"
     },
     "output_type": "display_data"
    }
   ],
   "source": [
    "sns.heatmap(df.corr());"
   ]
  },
  {
   "cell_type": "code",
   "execution_count": 17,
   "metadata": {
    "executionInfo": {
     "elapsed": 476,
     "status": "ok",
     "timestamp": 1628145732582,
     "user": {
      "displayName": "YASWANTH KANAMARLAPUDI",
      "photoUrl": "https://lh3.googleusercontent.com/a-/AOh14GhNh7FBGd023zjnEhqtSIZrvFeDsjUXA-4JFq5yhw=s64",
      "userId": "10692934730370513981"
     },
     "user_tz": -330
    },
    "id": "ypJv6x_MCD2e"
   },
   "outputs": [],
   "source": [
    "x=df.drop('whether he/she donated blood in March 2007',axis=1)"
   ]
  },
  {
   "cell_type": "code",
   "execution_count": 18,
   "metadata": {
    "colab": {
     "base_uri": "https://localhost:8080/",
     "height": 417
    },
    "executionInfo": {
     "elapsed": 16,
     "status": "ok",
     "timestamp": 1628145734238,
     "user": {
      "displayName": "YASWANTH KANAMARLAPUDI",
      "photoUrl": "https://lh3.googleusercontent.com/a-/AOh14GhNh7FBGd023zjnEhqtSIZrvFeDsjUXA-4JFq5yhw=s64",
      "userId": "10692934730370513981"
     },
     "user_tz": -330
    },
    "id": "LUgTZQi6CD2f",
    "outputId": "8d6e45cc-d99a-4017-cc4e-f00474374cb3"
   },
   "outputs": [
    {
     "data": {
      "text/html": [
       "<div>\n",
       "<style scoped>\n",
       "    .dataframe tbody tr th:only-of-type {\n",
       "        vertical-align: middle;\n",
       "    }\n",
       "\n",
       "    .dataframe tbody tr th {\n",
       "        vertical-align: top;\n",
       "    }\n",
       "\n",
       "    .dataframe thead th {\n",
       "        text-align: right;\n",
       "    }\n",
       "</style>\n",
       "<table border=\"1\" class=\"dataframe\">\n",
       "  <thead>\n",
       "    <tr style=\"text-align: right;\">\n",
       "      <th></th>\n",
       "      <th>Recency (months)</th>\n",
       "      <th>Frequency (times)</th>\n",
       "      <th>Monetary (c.c. blood)</th>\n",
       "      <th>Time (months)</th>\n",
       "    </tr>\n",
       "  </thead>\n",
       "  <tbody>\n",
       "    <tr>\n",
       "      <th>0</th>\n",
       "      <td>2</td>\n",
       "      <td>50</td>\n",
       "      <td>12500</td>\n",
       "      <td>98</td>\n",
       "    </tr>\n",
       "    <tr>\n",
       "      <th>1</th>\n",
       "      <td>0</td>\n",
       "      <td>13</td>\n",
       "      <td>3250</td>\n",
       "      <td>28</td>\n",
       "    </tr>\n",
       "    <tr>\n",
       "      <th>2</th>\n",
       "      <td>1</td>\n",
       "      <td>16</td>\n",
       "      <td>4000</td>\n",
       "      <td>35</td>\n",
       "    </tr>\n",
       "    <tr>\n",
       "      <th>3</th>\n",
       "      <td>2</td>\n",
       "      <td>20</td>\n",
       "      <td>5000</td>\n",
       "      <td>45</td>\n",
       "    </tr>\n",
       "    <tr>\n",
       "      <th>4</th>\n",
       "      <td>1</td>\n",
       "      <td>24</td>\n",
       "      <td>6000</td>\n",
       "      <td>77</td>\n",
       "    </tr>\n",
       "    <tr>\n",
       "      <th>...</th>\n",
       "      <td>...</td>\n",
       "      <td>...</td>\n",
       "      <td>...</td>\n",
       "      <td>...</td>\n",
       "    </tr>\n",
       "    <tr>\n",
       "      <th>743</th>\n",
       "      <td>23</td>\n",
       "      <td>2</td>\n",
       "      <td>500</td>\n",
       "      <td>38</td>\n",
       "    </tr>\n",
       "    <tr>\n",
       "      <th>744</th>\n",
       "      <td>21</td>\n",
       "      <td>2</td>\n",
       "      <td>500</td>\n",
       "      <td>52</td>\n",
       "    </tr>\n",
       "    <tr>\n",
       "      <th>745</th>\n",
       "      <td>23</td>\n",
       "      <td>3</td>\n",
       "      <td>750</td>\n",
       "      <td>62</td>\n",
       "    </tr>\n",
       "    <tr>\n",
       "      <th>746</th>\n",
       "      <td>39</td>\n",
       "      <td>1</td>\n",
       "      <td>250</td>\n",
       "      <td>39</td>\n",
       "    </tr>\n",
       "    <tr>\n",
       "      <th>747</th>\n",
       "      <td>72</td>\n",
       "      <td>1</td>\n",
       "      <td>250</td>\n",
       "      <td>72</td>\n",
       "    </tr>\n",
       "  </tbody>\n",
       "</table>\n",
       "<p>748 rows × 4 columns</p>\n",
       "</div>"
      ],
      "text/plain": [
       "     Recency (months)  Frequency (times)  Monetary (c.c. blood)  Time (months)\n",
       "0                   2                 50                  12500             98\n",
       "1                   0                 13                   3250             28\n",
       "2                   1                 16                   4000             35\n",
       "3                   2                 20                   5000             45\n",
       "4                   1                 24                   6000             77\n",
       "..                ...                ...                    ...            ...\n",
       "743                23                  2                    500             38\n",
       "744                21                  2                    500             52\n",
       "745                23                  3                    750             62\n",
       "746                39                  1                    250             39\n",
       "747                72                  1                    250             72\n",
       "\n",
       "[748 rows x 4 columns]"
      ]
     },
     "execution_count": 18,
     "metadata": {},
     "output_type": "execute_result"
    }
   ],
   "source": [
    "x"
   ]
  },
  {
   "cell_type": "code",
   "execution_count": 19,
   "metadata": {
    "executionInfo": {
     "elapsed": 521,
     "status": "ok",
     "timestamp": 1628145692496,
     "user": {
      "displayName": "YASWANTH KANAMARLAPUDI",
      "photoUrl": "https://lh3.googleusercontent.com/a-/AOh14GhNh7FBGd023zjnEhqtSIZrvFeDsjUXA-4JFq5yhw=s64",
      "userId": "10692934730370513981"
     },
     "user_tz": -330
    },
    "id": "ziU7NyxMCD2f"
   },
   "outputs": [],
   "source": [
    "y=df[\"whether he/she donated blood in March 2007\"]"
   ]
  },
  {
   "cell_type": "code",
   "execution_count": 20,
   "metadata": {
    "id": "DxkoCLwsCD2g",
    "outputId": "fdb80feb-5c4b-4496-af47-9d2fdd5c9594"
   },
   "outputs": [
    {
     "data": {
      "text/plain": [
       "0      1\n",
       "1      1\n",
       "2      1\n",
       "3      1\n",
       "4      0\n",
       "      ..\n",
       "743    0\n",
       "744    0\n",
       "745    0\n",
       "746    0\n",
       "747    0\n",
       "Name: whether he/she donated blood in March 2007, Length: 748, dtype: int64"
      ]
     },
     "execution_count": 20,
     "metadata": {},
     "output_type": "execute_result"
    }
   ],
   "source": [
    "y"
   ]
  },
  {
   "cell_type": "code",
   "execution_count": 21,
   "metadata": {
    "executionInfo": {
     "elapsed": 14,
     "status": "ok",
     "timestamp": 1628145740319,
     "user": {
      "displayName": "YASWANTH KANAMARLAPUDI",
      "photoUrl": "https://lh3.googleusercontent.com/a-/AOh14GhNh7FBGd023zjnEhqtSIZrvFeDsjUXA-4JFq5yhw=s64",
      "userId": "10692934730370513981"
     },
     "user_tz": -330
    },
    "id": "on7Zx6AhCD2h"
   },
   "outputs": [],
   "source": [
    "#x_train,x_test,y_train,y_test=train_test_split(x,y)\n",
    "x_train,x_test,y_train,y_test = train_test_split(  x, y, test_size = 0.3, random_state = 100) "
   ]
  },
  {
   "cell_type": "code",
   "execution_count": 22,
   "metadata": {
    "executionInfo": {
     "elapsed": 421,
     "status": "ok",
     "timestamp": 1628145747661,
     "user": {
      "displayName": "YASWANTH KANAMARLAPUDI",
      "photoUrl": "https://lh3.googleusercontent.com/a-/AOh14GhNh7FBGd023zjnEhqtSIZrvFeDsjUXA-4JFq5yhw=s64",
      "userId": "10692934730370513981"
     },
     "user_tz": -330
    },
    "id": "MzFjrMCPCD2h"
   },
   "outputs": [],
   "source": [
    "logreg=LogisticRegression()"
   ]
  },
  {
   "cell_type": "code",
   "execution_count": 23,
   "metadata": {
    "colab": {
     "base_uri": "https://localhost:8080/"
    },
    "executionInfo": {
     "elapsed": 9,
     "status": "ok",
     "timestamp": 1628145749266,
     "user": {
      "displayName": "YASWANTH KANAMARLAPUDI",
      "photoUrl": "https://lh3.googleusercontent.com/a-/AOh14GhNh7FBGd023zjnEhqtSIZrvFeDsjUXA-4JFq5yhw=s64",
      "userId": "10692934730370513981"
     },
     "user_tz": -330
    },
    "id": "_0DbetX7CD2i",
    "outputId": "8b698758-97b8-4566-9454-c0d06ba4ba28"
   },
   "outputs": [
    {
     "data": {
      "text/plain": [
       "LogisticRegression()"
      ]
     },
     "execution_count": 23,
     "metadata": {},
     "output_type": "execute_result"
    }
   ],
   "source": [
    "logreg.fit(x_train,y_train)"
   ]
  },
  {
   "cell_type": "code",
   "execution_count": 24,
   "metadata": {
    "executionInfo": {
     "elapsed": 5,
     "status": "ok",
     "timestamp": 1628145752110,
     "user": {
      "displayName": "YASWANTH KANAMARLAPUDI",
      "photoUrl": "https://lh3.googleusercontent.com/a-/AOh14GhNh7FBGd023zjnEhqtSIZrvFeDsjUXA-4JFq5yhw=s64",
      "userId": "10692934730370513981"
     },
     "user_tz": -330
    },
    "id": "HfS2wnIbCD2i"
   },
   "outputs": [],
   "source": [
    "y_predict=logreg.predict(x_test)"
   ]
  },
  {
   "cell_type": "code",
   "execution_count": 25,
   "metadata": {
    "executionInfo": {
     "elapsed": 422,
     "status": "ok",
     "timestamp": 1628145762789,
     "user": {
      "displayName": "YASWANTH KANAMARLAPUDI",
      "photoUrl": "https://lh3.googleusercontent.com/a-/AOh14GhNh7FBGd023zjnEhqtSIZrvFeDsjUXA-4JFq5yhw=s64",
      "userId": "10692934730370513981"
     },
     "user_tz": -330
    },
    "id": "sFfYsjAaCD2j"
   },
   "outputs": [],
   "source": [
    "accuracy=metrics.accuracy_score(y_test,y_predict)"
   ]
  },
  {
   "cell_type": "code",
   "execution_count": 26,
   "metadata": {
    "executionInfo": {
     "elapsed": 7,
     "status": "ok",
     "timestamp": 1628145764497,
     "user": {
      "displayName": "YASWANTH KANAMARLAPUDI",
      "photoUrl": "https://lh3.googleusercontent.com/a-/AOh14GhNh7FBGd023zjnEhqtSIZrvFeDsjUXA-4JFq5yhw=s64",
      "userId": "10692934730370513981"
     },
     "user_tz": -330
    },
    "id": "ZFGfnFknCD2j"
   },
   "outputs": [],
   "source": [
    "accuracy_percentage=100*accuracy"
   ]
  },
  {
   "cell_type": "code",
   "execution_count": 27,
   "metadata": {
    "colab": {
     "base_uri": "https://localhost:8080/"
    },
    "executionInfo": {
     "elapsed": 651,
     "status": "ok",
     "timestamp": 1628145768152,
     "user": {
      "displayName": "YASWANTH KANAMARLAPUDI",
      "photoUrl": "https://lh3.googleusercontent.com/a-/AOh14GhNh7FBGd023zjnEhqtSIZrvFeDsjUXA-4JFq5yhw=s64",
      "userId": "10692934730370513981"
     },
     "user_tz": -330
    },
    "id": "dS86MSXeCD2j",
    "outputId": "ef891a7a-3aae-4228-fe06-451a751ec4d8"
   },
   "outputs": [
    {
     "data": {
      "text/plain": [
       "77.33333333333333"
      ]
     },
     "execution_count": 27,
     "metadata": {},
     "output_type": "execute_result"
    }
   ],
   "source": [
    "accuracy_percentage"
   ]
  },
  {
   "cell_type": "code",
   "execution_count": 28,
   "metadata": {
    "executionInfo": {
     "elapsed": 8,
     "status": "ok",
     "timestamp": 1628145768154,
     "user": {
      "displayName": "YASWANTH KANAMARLAPUDI",
      "photoUrl": "https://lh3.googleusercontent.com/a-/AOh14GhNh7FBGd023zjnEhqtSIZrvFeDsjUXA-4JFq5yhw=s64",
      "userId": "10692934730370513981"
     },
     "user_tz": -330
    },
    "id": "GG6IVUrkCD2k"
   },
   "outputs": [],
   "source": [
    "clf_entropy = DecisionTreeClassifier( criterion = \"entropy\", random_state = 100, max_depth = 3, min_samples_leaf = 5) "
   ]
  },
  {
   "cell_type": "code",
   "execution_count": 29,
   "metadata": {
    "executionInfo": {
     "elapsed": 8,
     "status": "ok",
     "timestamp": 1628145773042,
     "user": {
      "displayName": "YASWANTH KANAMARLAPUDI",
      "photoUrl": "https://lh3.googleusercontent.com/a-/AOh14GhNh7FBGd023zjnEhqtSIZrvFeDsjUXA-4JFq5yhw=s64",
      "userId": "10692934730370513981"
     },
     "user_tz": -330
    },
    "id": "J3DwcrvlCD2l"
   },
   "outputs": [],
   "source": [
    "model=clf_entropy.fit(x_train,y_train)"
   ]
  },
  {
   "cell_type": "code",
   "execution_count": 30,
   "metadata": {
    "executionInfo": {
     "elapsed": 9,
     "status": "ok",
     "timestamp": 1628145774897,
     "user": {
      "displayName": "YASWANTH KANAMARLAPUDI",
      "photoUrl": "https://lh3.googleusercontent.com/a-/AOh14GhNh7FBGd023zjnEhqtSIZrvFeDsjUXA-4JFq5yhw=s64",
      "userId": "10692934730370513981"
     },
     "user_tz": -330
    },
    "id": "VZJLdZ3cCD2l"
   },
   "outputs": [],
   "source": [
    "dt=DecisionTreeClassifier()\n",
    "dt.fit(x_train,y_train)\n",
    "y_pred = dt.predict(x_test)"
   ]
  },
  {
   "cell_type": "code",
   "execution_count": 31,
   "metadata": {
    "colab": {
     "base_uri": "https://localhost:8080/"
    },
    "executionInfo": {
     "elapsed": 6,
     "status": "ok",
     "timestamp": 1628145776915,
     "user": {
      "displayName": "YASWANTH KANAMARLAPUDI",
      "photoUrl": "https://lh3.googleusercontent.com/a-/AOh14GhNh7FBGd023zjnEhqtSIZrvFeDsjUXA-4JFq5yhw=s64",
      "userId": "10692934730370513981"
     },
     "user_tz": -330
    },
    "id": "8Gq5SogfCD2l",
    "outputId": "d179cc97-e9c0-4d52-cd62-1cba29a704f3"
   },
   "outputs": [
    {
     "data": {
      "text/plain": [
       "77.33333333333333"
      ]
     },
     "execution_count": 31,
     "metadata": {},
     "output_type": "execute_result"
    }
   ],
   "source": [
    "accuracy=metrics.accuracy_score(y_test,y_predict)\n",
    "accuracy_percentage=100*accuracy\n",
    "accuracy_percentage"
   ]
  },
  {
   "cell_type": "code",
   "execution_count": 32,
   "metadata": {
    "colab": {
     "base_uri": "https://localhost:8080/"
    },
    "executionInfo": {
     "elapsed": 10,
     "status": "ok",
     "timestamp": 1628145781535,
     "user": {
      "displayName": "YASWANTH KANAMARLAPUDI",
      "photoUrl": "https://lh3.googleusercontent.com/a-/AOh14GhNh7FBGd023zjnEhqtSIZrvFeDsjUXA-4JFq5yhw=s64",
      "userId": "10692934730370513981"
     },
     "user_tz": -330
    },
    "id": "1E39QAagCD2m",
    "outputId": "1f34c17c-f0a0-4ab2-f1a1-2e4da75776e1"
   },
   "outputs": [
    {
     "data": {
      "text/plain": [
       "Index(['Recency (months)', 'Frequency (times)', 'Monetary (c.c. blood)',\n",
       "       'Time (months)'],\n",
       "      dtype='object')"
      ]
     },
     "execution_count": 32,
     "metadata": {},
     "output_type": "execute_result"
    }
   ],
   "source": [
    "z=x.columns\n",
    "z"
   ]
  },
  {
   "cell_type": "code",
   "execution_count": 33,
   "metadata": {
    "colab": {
     "base_uri": "https://localhost:8080/",
     "height": 35
    },
    "executionInfo": {
     "elapsed": 13,
     "status": "ok",
     "timestamp": 1628145783167,
     "user": {
      "displayName": "YASWANTH KANAMARLAPUDI",
      "photoUrl": "https://lh3.googleusercontent.com/a-/AOh14GhNh7FBGd023zjnEhqtSIZrvFeDsjUXA-4JFq5yhw=s64",
      "userId": "10692934730370513981"
     },
     "user_tz": -330
    },
    "id": "y1_lE2cvCD2n",
    "outputId": "334e6632-1581-4abe-9373-e97b0373699b"
   },
   "outputs": [
    {
     "data": {
      "text/plain": [
       "'whether he/she donated blood in March 2007'"
      ]
     },
     "execution_count": 33,
     "metadata": {},
     "output_type": "execute_result"
    }
   ],
   "source": [
    "p=df.columns[4]\n",
    "p"
   ]
  },
  {
   "cell_type": "code",
   "execution_count": 34,
   "metadata": {
    "executionInfo": {
     "elapsed": 396,
     "status": "ok",
     "timestamp": 1628145830975,
     "user": {
      "displayName": "YASWANTH KANAMARLAPUDI",
      "photoUrl": "https://lh3.googleusercontent.com/a-/AOh14GhNh7FBGd023zjnEhqtSIZrvFeDsjUXA-4JFq5yhw=s64",
      "userId": "10692934730370513981"
     },
     "user_tz": -330
    },
    "id": "eH1Fb2M0CD2n"
   },
   "outputs": [],
   "source": [
    "#from sklearn.tree import export_graphviz"
   ]
  },
  {
   "cell_type": "code",
   "execution_count": 35,
   "metadata": {
    "executionInfo": {
     "elapsed": 7,
     "status": "ok",
     "timestamp": 1628145785931,
     "user": {
      "displayName": "YASWANTH KANAMARLAPUDI",
      "photoUrl": "https://lh3.googleusercontent.com/a-/AOh14GhNh7FBGd023zjnEhqtSIZrvFeDsjUXA-4JFq5yhw=s64",
      "userId": "10692934730370513981"
     },
     "user_tz": -330
    },
    "id": "F8dCZqucCD2o"
   },
   "outputs": [],
   "source": [
    "from sklearn import tree"
   ]
  },
  {
   "cell_type": "code",
   "execution_count": 36,
   "metadata": {
    "executionInfo": {
     "elapsed": 596,
     "status": "ok",
     "timestamp": 1628145789318,
     "user": {
      "displayName": "YASWANTH KANAMARLAPUDI",
      "photoUrl": "https://lh3.googleusercontent.com/a-/AOh14GhNh7FBGd023zjnEhqtSIZrvFeDsjUXA-4JFq5yhw=s64",
      "userId": "10692934730370513981"
     },
     "user_tz": -330
    },
    "id": "V_t_vMRRCD2o"
   },
   "outputs": [],
   "source": [
    "from six import StringIO"
   ]
  },
  {
   "cell_type": "code",
   "execution_count": 37,
   "metadata": {
    "executionInfo": {
     "elapsed": 6,
     "status": "ok",
     "timestamp": 1628145791572,
     "user": {
      "displayName": "YASWANTH KANAMARLAPUDI",
      "photoUrl": "https://lh3.googleusercontent.com/a-/AOh14GhNh7FBGd023zjnEhqtSIZrvFeDsjUXA-4JFq5yhw=s64",
      "userId": "10692934730370513981"
     },
     "user_tz": -330
    },
    "id": "sV1s9SvcCD2p"
   },
   "outputs": [],
   "source": [
    "from IPython.display import Image"
   ]
  },
  {
   "cell_type": "code",
   "execution_count": 40,
   "metadata": {},
   "outputs": [
    {
     "name": "stdout",
     "output_type": "stream",
     "text": [
      "Collecting pydotplus\n",
      "  Downloading pydotplus-2.0.2.tar.gz (278 kB)\n",
      "Requirement already satisfied: pyparsing>=2.0.1 in c:\\users\\naveen.mulaga\\anaconda3\\lib\\site-packages (from pydotplus) (2.4.7)\n",
      "Building wheels for collected packages: pydotplus\n",
      "  Building wheel for pydotplus (setup.py): started\n",
      "  Building wheel for pydotplus (setup.py): finished with status 'done'\n",
      "  Created wheel for pydotplus: filename=pydotplus-2.0.2-py3-none-any.whl size=24572 sha256=94122b4f1e337c9426c89fc75c7bd350ce58e88c1d4cd1ef09561cabcb0d01d2\n",
      "  Stored in directory: c:\\users\\naveen.mulaga\\appdata\\local\\pip\\cache\\wheels\\fe\\cd\\78\\a7e873cc049759194f8271f780640cf96b35e5a48bef0e2f36\n",
      "Successfully built pydotplus\n",
      "Installing collected packages: pydotplus\n",
      "Successfully installed pydotplus-2.0.2\n",
      "Note: you may need to restart the kernel to use updated packages.\n"
     ]
    }
   ],
   "source": [
    "pip install pydotplus"
   ]
  },
  {
   "cell_type": "code",
   "execution_count": 41,
   "metadata": {
    "executionInfo": {
     "elapsed": 6,
     "status": "ok",
     "timestamp": 1628145793479,
     "user": {
      "displayName": "YASWANTH KANAMARLAPUDI",
      "photoUrl": "https://lh3.googleusercontent.com/a-/AOh14GhNh7FBGd023zjnEhqtSIZrvFeDsjUXA-4JFq5yhw=s64",
      "userId": "10692934730370513981"
     },
     "user_tz": -330
    },
    "id": "d-z2arK-CD2p"
   },
   "outputs": [],
   "source": [
    "import pydotplus"
   ]
  },
  {
   "cell_type": "code",
   "execution_count": 42,
   "metadata": {
    "executionInfo": {
     "elapsed": 382,
     "status": "ok",
     "timestamp": 1628145878057,
     "user": {
      "displayName": "YASWANTH KANAMARLAPUDI",
      "photoUrl": "https://lh3.googleusercontent.com/a-/AOh14GhNh7FBGd023zjnEhqtSIZrvFeDsjUXA-4JFq5yhw=s64",
      "userId": "10692934730370513981"
     },
     "user_tz": -330
    },
    "id": "2lm_qYvSDkni"
   },
   "outputs": [],
   "source": [
    "import sklearn"
   ]
  },
  {
   "cell_type": "code",
   "execution_count": 43,
   "metadata": {
    "executionInfo": {
     "elapsed": 623,
     "status": "ok",
     "timestamp": 1628145880721,
     "user": {
      "displayName": "YASWANTH KANAMARLAPUDI",
      "photoUrl": "https://lh3.googleusercontent.com/a-/AOh14GhNh7FBGd023zjnEhqtSIZrvFeDsjUXA-4JFq5yhw=s64",
      "userId": "10692934730370513981"
     },
     "user_tz": -330
    },
    "id": "LbIBg331CD2p"
   },
   "outputs": [],
   "source": [
    "from sklearn import tree\n",
    "dot_data=StringIO()\n",
    "sklearn.tree.export_graphviz(clf_entropy,out_file=dot_data,filled=True,rounded=True,special_characters=True,feature_names=z,class_names=p)\n",
    "graph=pydotplus.graph_from_dot_data(dot_data.getvalue())\n"
   ]
  },
  {
   "cell_type": "code",
   "execution_count": 44,
   "metadata": {
    "executionInfo": {
     "elapsed": 683,
     "status": "ok",
     "timestamp": 1628145892596,
     "user": {
      "displayName": "YASWANTH KANAMARLAPUDI",
      "photoUrl": "https://lh3.googleusercontent.com/a-/AOh14GhNh7FBGd023zjnEhqtSIZrvFeDsjUXA-4JFq5yhw=s64",
      "userId": "10692934730370513981"
     },
     "user_tz": -330
    },
    "id": "uAM4cWRMCD2q"
   },
   "outputs": [],
   "source": [
    "graphs=tree.export_text(clf_entropy)"
   ]
  },
  {
   "cell_type": "code",
   "execution_count": 45,
   "metadata": {
    "colab": {
     "base_uri": "https://localhost:8080/",
     "height": 102
    },
    "executionInfo": {
     "elapsed": 669,
     "status": "ok",
     "timestamp": 1628145896235,
     "user": {
      "displayName": "YASWANTH KANAMARLAPUDI",
      "photoUrl": "https://lh3.googleusercontent.com/a-/AOh14GhNh7FBGd023zjnEhqtSIZrvFeDsjUXA-4JFq5yhw=s64",
      "userId": "10692934730370513981"
     },
     "user_tz": -330
    },
    "id": "IkiWWH4SCD2r",
    "outputId": "8c2588d8-698d-4950-98eb-39099e2c81ae"
   },
   "outputs": [
    {
     "data": {
      "text/plain": [
       "'|--- feature_0 <= 8.50\\n|   |--- feature_1 <= 4.50\\n|   |   |--- feature_3 <= 39.50\\n|   |   |   |--- class: 0\\n|   |   |--- feature_3 >  39.50\\n|   |   |   |--- class: 0\\n|   |--- feature_1 >  4.50\\n|   |   |--- feature_3 <= 44.00\\n|   |   |   |--- class: 1\\n|   |   |--- feature_3 >  44.00\\n|   |   |   |--- class: 0\\n|--- feature_0 >  8.50\\n|   |--- feature_2 <= 1125.00\\n|   |   |--- feature_3 <= 40.50\\n|   |   |   |--- class: 0\\n|   |   |--- feature_3 >  40.50\\n|   |   |   |--- class: 0\\n|   |--- feature_2 >  1125.00\\n|   |   |--- feature_3 <= 34.50\\n|   |   |   |--- class: 0\\n|   |   |--- feature_3 >  34.50\\n|   |   |   |--- class: 0\\n'"
      ]
     },
     "execution_count": 45,
     "metadata": {},
     "output_type": "execute_result"
    }
   ],
   "source": [
    "graphs"
   ]
  },
  {
   "cell_type": "code",
   "execution_count": 46,
   "metadata": {
    "colab": {
     "base_uri": "https://localhost:8080/"
    },
    "executionInfo": {
     "elapsed": 551,
     "status": "ok",
     "timestamp": 1628145905768,
     "user": {
      "displayName": "YASWANTH KANAMARLAPUDI",
      "photoUrl": "https://lh3.googleusercontent.com/a-/AOh14GhNh7FBGd023zjnEhqtSIZrvFeDsjUXA-4JFq5yhw=s64",
      "userId": "10692934730370513981"
     },
     "user_tz": -330
    },
    "id": "GlFpAusZCD2r",
    "outputId": "8ca5e452-efcf-4ce0-b8da-d829fcd4c9c4"
   },
   "outputs": [
    {
     "name": "stdout",
     "output_type": "stream",
     "text": [
      "|--- feature_0 <= 8.50\n",
      "|   |--- feature_1 <= 4.50\n",
      "|   |   |--- feature_3 <= 39.50\n",
      "|   |   |   |--- class: 0\n",
      "|   |   |--- feature_3 >  39.50\n",
      "|   |   |   |--- class: 0\n",
      "|   |--- feature_1 >  4.50\n",
      "|   |   |--- feature_3 <= 44.00\n",
      "|   |   |   |--- class: 1\n",
      "|   |   |--- feature_3 >  44.00\n",
      "|   |   |   |--- class: 0\n",
      "|--- feature_0 >  8.50\n",
      "|   |--- feature_2 <= 1125.00\n",
      "|   |   |--- feature_3 <= 40.50\n",
      "|   |   |   |--- class: 0\n",
      "|   |   |--- feature_3 >  40.50\n",
      "|   |   |   |--- class: 0\n",
      "|   |--- feature_2 >  1125.00\n",
      "|   |   |--- feature_3 <= 34.50\n",
      "|   |   |   |--- class: 0\n",
      "|   |   |--- feature_3 >  34.50\n",
      "|   |   |   |--- class: 0\n",
      "\n"
     ]
    }
   ],
   "source": [
    "print(graphs)"
   ]
  },
  {
   "cell_type": "code",
   "execution_count": 47,
   "metadata": {
    "colab": {
     "base_uri": "https://localhost:8080/",
     "height": 1000
    },
    "executionInfo": {
     "elapsed": 2283,
     "status": "ok",
     "timestamp": 1628145916412,
     "user": {
      "displayName": "YASWANTH KANAMARLAPUDI",
      "photoUrl": "https://lh3.googleusercontent.com/a-/AOh14GhNh7FBGd023zjnEhqtSIZrvFeDsjUXA-4JFq5yhw=s64",
      "userId": "10692934730370513981"
     },
     "user_tz": -330
    },
    "id": "3ZEDB_sSCD2s",
    "outputId": "5403040a-5113-40ea-b5c6-6952efb963a5"
   },
   "outputs": [
    {
     "data": {
      "image/png": "[encoded data removed]",
      "text/plain": [
       "<Figure size 1800x1800 with 1 Axes>"
      ]
     },
     "metadata": {
      "needs_background": "light"
     },
     "output_type": "display_data"
    }
   ],
   "source": [
    "fig=plt.figure(figsize=(25,25))\n",
    "_=tree.plot_tree(clf_entropy,feature_names=z,class_names=p,filled=True)"
   ]
  },
  {
   "cell_type": "code",
   "execution_count": 48,
   "metadata": {
    "executionInfo": {
     "elapsed": 1640,
     "status": "ok",
     "timestamp": 1628145927357,
     "user": {
      "displayName": "YASWANTH KANAMARLAPUDI",
      "photoUrl": "https://lh3.googleusercontent.com/a-/AOh14GhNh7FBGd023zjnEhqtSIZrvFeDsjUXA-4JFq5yhw=s64",
      "userId": "10692934730370513981"
     },
     "user_tz": -330
    },
    "id": "NDzWBES7CD2t"
   },
   "outputs": [],
   "source": [
    "fig.savefig(\"dct.png\")"
   ]
  },
  {
   "cell_type": "code",
   "execution_count": 49,
   "metadata": {
    "colab": {
     "base_uri": "https://localhost:8080/"
    },
    "executionInfo": {
     "elapsed": 632,
     "status": "ok",
     "timestamp": 1628145929817,
     "user": {
      "displayName": "YASWANTH KANAMARLAPUDI",
      "photoUrl": "https://lh3.googleusercontent.com/a-/AOh14GhNh7FBGd023zjnEhqtSIZrvFeDsjUXA-4JFq5yhw=s64",
      "userId": "10692934730370513981"
     },
     "user_tz": -330
    },
    "id": "EcMjgY5QCD2t",
    "outputId": "7b90d871-e5bc-4c07-ffa2-320d53f29c04"
   },
   "outputs": [
    {
     "name": "stdout",
     "output_type": "stream",
     "text": [
      "Confusion Matrix: [[136  33]\n",
      " [ 37  19]]\n"
     ]
    }
   ],
   "source": [
    "print(\"Confusion Matrix:\",confusion_matrix(y_test,y_pred))"
   ]
  },
  {
   "cell_type": "code",
   "execution_count": 50,
   "metadata": {
    "colab": {
     "base_uri": "https://localhost:8080/"
    },
    "executionInfo": {
     "elapsed": 669,
     "status": "ok",
     "timestamp": 1628145933239,
     "user": {
      "displayName": "YASWANTH KANAMARLAPUDI",
      "photoUrl": "https://lh3.googleusercontent.com/a-/AOh14GhNh7FBGd023zjnEhqtSIZrvFeDsjUXA-4JFq5yhw=s64",
      "userId": "10692934730370513981"
     },
     "user_tz": -330
    },
    "id": "DUQ8OXAZCD2t",
    "outputId": "66a3bf6c-3dfe-4f19-8cdc-29970eb53bbb"
   },
   "outputs": [
    {
     "name": "stdout",
     "output_type": "stream",
     "text": [
      "Accuracy: 68.88888888888889\n"
     ]
    }
   ],
   "source": [
    "print(\"Accuracy:\",accuracy_score(y_test,y_pred)*100)"
   ]
  },
  {
   "cell_type": "code",
   "execution_count": 51,
   "metadata": {
    "colab": {
     "base_uri": "https://localhost:8080/"
    },
    "executionInfo": {
     "elapsed": 617,
     "status": "ok",
     "timestamp": 1628145936363,
     "user": {
      "displayName": "YASWANTH KANAMARLAPUDI",
      "photoUrl": "https://lh3.googleusercontent.com/a-/AOh14GhNh7FBGd023zjnEhqtSIZrvFeDsjUXA-4JFq5yhw=s64",
      "userId": "10692934730370513981"
     },
     "user_tz": -330
    },
    "id": "KDVmMI0kCD2u",
    "outputId": "e478e882-ab05-4254-a44a-fa5a04e85109"
   },
   "outputs": [
    {
     "name": "stdout",
     "output_type": "stream",
     "text": [
      "Report:               precision    recall  f1-score   support\n",
      "\n",
      "           0       0.79      0.80      0.80       169\n",
      "           1       0.37      0.34      0.35        56\n",
      "\n",
      "    accuracy                           0.69       225\n",
      "   macro avg       0.58      0.57      0.57       225\n",
      "weighted avg       0.68      0.69      0.68       225\n",
      "\n"
     ]
    }
   ],
   "source": [
    "print(\"Report:\",classification_report(y_test,y_pred))"
   ]
  },
  {
   "cell_type": "code",
   "execution_count": null,
   "metadata": {
    "id": "5jad6vGWCD2v"
   },
   "outputs": [],
   "source": []
  }
 ],
 "metadata": {
  "colab": {
   "collapsed_sections": [],
   "name": "ML-S_4-190032039.ipynb",
   "provenance": []
  },
  "kernelspec": {
   "display_name": "Python 3",
   "language": "python",
   "name": "python3"
  },
  "language_info": {
   "codemirror_mode": {
    "name": "ipython",
    "version": 3
   },
   "file_extension": ".py",
   "mimetype": "text/x-python",
   "name": "python",
   "nbconvert_exporter": "python",
   "pygments_lexer": "ipython3",
   "version": "3.8.5"
  }
 },
 "nbformat": 4,
 "nbformat_minor": 1
}
